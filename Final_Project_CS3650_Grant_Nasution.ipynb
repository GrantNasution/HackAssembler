{
  "nbformat": 4,
  "nbformat_minor": 0,
  "metadata": {
    "colab": {
      "name": "Final Project CS3650 Grant Nasution.ipynb",
      "version": "0.3.2",
      "provenance": [],
      "collapsed_sections": [],
      "include_colab_link": true
    },
    "kernelspec": {
      "name": "python3",
      "display_name": "Python 3"
    }
  },
  "cells": [
    {
      "cell_type": "markdown",
      "metadata": {
        "id": "view-in-github",
        "colab_type": "text"
      },
      "source": [
        "<a href=\"https://colab.research.google.com/github/GrantNasution/HackAssembler/blob/master/Final_Project_CS3650_Grant_Nasution.ipynb\" target=\"_parent\"><img src=\"https://colab.research.google.com/assets/colab-badge.svg\" alt=\"Open In Colab\"/></a>"
      ]
    },
    {
      "cell_type": "code",
      "metadata": {
        "id": "jeATEPlbGiWE",
        "colab_type": "code",
        "outputId": "d92d5eba-522d-4d0b-b8e9-dca6289ef058",
        "colab": {
          "base_uri": "https://localhost:8080/",
          "height": 1046
        }
      },
      "source": [
        "#Grant Nasution\n",
        "#Quantum Dice\n",
        "#CS 3650\n",
        "!pip install qiskit\n",
        "from qiskit import *\n",
        "IBMQ.enable_account('ef3b4e1519be40652db1cf7d6c83869d4f4035b250dce0fcb09335cad8572c0037ee6fb0bdb7709c67bd99d4220abf7121ddf168eb4687a9982f7b2b553cc863')\n"
      ],
      "execution_count": 0,
      "outputs": [
        {
          "output_type": "stream",
          "text": [
            "Requirement already satisfied: qiskit in /usr/local/lib/python3.6/dist-packages (0.10.1)\n",
            "Requirement already satisfied: qiskit_terra==0.8.0 in /usr/local/lib/python3.6/dist-packages (from qiskit) (0.8.0)\n",
            "Requirement already satisfied: qiskit-aer==0.2.0 in /usr/local/lib/python3.6/dist-packages (from qiskit) (0.2.0)\n",
            "Requirement already satisfied: qiskit-ibmq-provider==0.2.2 in /usr/local/lib/python3.6/dist-packages (from qiskit) (0.2.2)\n",
            "Requirement already satisfied: qiskit-ignis==0.1.1 in /usr/local/lib/python3.6/dist-packages (from qiskit) (0.1.1)\n",
            "Requirement already satisfied: qiskit-aqua==0.5.0 in /usr/local/lib/python3.6/dist-packages (from qiskit) (0.5.0)\n",
            "Requirement already satisfied: qiskit-chemistry==0.5.0 in /usr/local/lib/python3.6/dist-packages (from qiskit) (0.5.0)\n",
            "Requirement already satisfied: scipy>=1.0 in /usr/local/lib/python3.6/dist-packages (from qiskit_terra==0.8.0->qiskit) (1.2.1)\n",
            "Requirement already satisfied: sympy>=1.3 in /usr/local/lib/python3.6/dist-packages (from qiskit_terra==0.8.0->qiskit) (1.4)\n",
            "Requirement already satisfied: networkx>=2.2 in /usr/local/lib/python3.6/dist-packages (from qiskit_terra==0.8.0->qiskit) (2.3)\n",
            "Requirement already satisfied: jsonschema<2.7,>=2.6 in /usr/local/lib/python3.6/dist-packages (from qiskit_terra==0.8.0->qiskit) (2.6.0)\n",
            "Requirement already satisfied: ply>=3.10 in /usr/local/lib/python3.6/dist-packages (from qiskit_terra==0.8.0->qiskit) (3.11)\n",
            "Requirement already satisfied: pillow>=4.2.1 in /usr/local/lib/python3.6/dist-packages (from qiskit_terra==0.8.0->qiskit) (4.3.0)\n",
            "Requirement already satisfied: pylatexenc>=1.4 in /usr/local/lib/python3.6/dist-packages (from qiskit_terra==0.8.0->qiskit) (1.4)\n",
            "Requirement already satisfied: marshmallow<3,>=2.17.0 in /usr/local/lib/python3.6/dist-packages (from qiskit_terra==0.8.0->qiskit) (2.19.2)\n",
            "Requirement already satisfied: psutil>=5 in /usr/local/lib/python3.6/dist-packages (from qiskit_terra==0.8.0->qiskit) (5.4.8)\n",
            "Requirement already satisfied: marshmallow-polyfield<4,>=3.2 in /usr/local/lib/python3.6/dist-packages (from qiskit_terra==0.8.0->qiskit) (3.2)\n",
            "Requirement already satisfied: numpy>=1.13 in /usr/local/lib/python3.6/dist-packages (from qiskit_terra==0.8.0->qiskit) (1.16.3)\n",
            "Requirement already satisfied: requests-ntlm>=1.1.0 in /usr/local/lib/python3.6/dist-packages (from qiskit-ibmq-provider==0.2.2->qiskit) (1.1.0)\n",
            "Requirement already satisfied: websockets<8,>=7 in /usr/local/lib/python3.6/dist-packages (from qiskit-ibmq-provider==0.2.2->qiskit) (7.0)\n",
            "Requirement already satisfied: requests>=2.19 in /usr/local/lib/python3.6/dist-packages (from qiskit-ibmq-provider==0.2.2->qiskit) (2.21.0)\n",
            "Requirement already satisfied: fastdtw in /usr/local/lib/python3.6/dist-packages (from qiskit-aqua==0.5.0->qiskit) (0.3.2)\n",
            "Requirement already satisfied: scikit-learn>=0.20.0 in /usr/local/lib/python3.6/dist-packages (from qiskit-aqua==0.5.0->qiskit) (0.20.3)\n",
            "Requirement already satisfied: pyeda; sys_platform != \"win32\" in /usr/local/lib/python3.6/dist-packages (from qiskit-aqua==0.5.0->qiskit) (0.28.0)\n",
            "Requirement already satisfied: docplex in /usr/local/lib/python3.6/dist-packages (from qiskit-aqua==0.5.0->qiskit) (2.9.141)\n",
            "Requirement already satisfied: cvxopt in /usr/local/lib/python3.6/dist-packages (from qiskit-aqua==0.5.0->qiskit) (1.2.3)\n",
            "Requirement already satisfied: setuptools>=40.1.0 in /usr/local/lib/python3.6/dist-packages (from qiskit-aqua==0.5.0->qiskit) (41.0.1)\n",
            "Requirement already satisfied: torch; sys_platform != \"win32\" in /usr/local/lib/python3.6/dist-packages (from qiskit-aqua==0.5.0->qiskit) (1.1.0)\n",
            "Requirement already satisfied: dlx in /usr/local/lib/python3.6/dist-packages (from qiskit-aqua==0.5.0->qiskit) (1.0.4)\n",
            "Requirement already satisfied: quandl in /usr/local/lib/python3.6/dist-packages (from qiskit-aqua==0.5.0->qiskit) (3.4.8)\n",
            "Requirement already satisfied: h5py in /usr/local/lib/python3.6/dist-packages (from qiskit-chemistry==0.5.0->qiskit) (2.8.0)\n",
            "Requirement already satisfied: pyscf; sys_platform != \"win32\" in /usr/local/lib/python3.6/dist-packages (from qiskit-chemistry==0.5.0->qiskit) (1.6.1.post1)\n",
            "Requirement already satisfied: mpmath>=0.19 in /usr/local/lib/python3.6/dist-packages (from sympy>=1.3->qiskit_terra==0.8.0->qiskit) (1.1.0)\n",
            "Requirement already satisfied: decorator>=4.3.0 in /usr/local/lib/python3.6/dist-packages (from networkx>=2.2->qiskit_terra==0.8.0->qiskit) (4.4.0)\n",
            "Requirement already satisfied: olefile in /usr/local/lib/python3.6/dist-packages (from pillow>=4.2.1->qiskit_terra==0.8.0->qiskit) (0.46)\n",
            "Requirement already satisfied: cryptography>=1.3 in /usr/local/lib/python3.6/dist-packages (from requests-ntlm>=1.1.0->qiskit-ibmq-provider==0.2.2->qiskit) (2.6.1)\n",
            "Requirement already satisfied: ntlm-auth>=1.0.2 in /usr/local/lib/python3.6/dist-packages (from requests-ntlm>=1.1.0->qiskit-ibmq-provider==0.2.2->qiskit) (1.3.0)\n",
            "Requirement already satisfied: certifi>=2017.4.17 in /usr/local/lib/python3.6/dist-packages (from requests>=2.19->qiskit-ibmq-provider==0.2.2->qiskit) (2019.3.9)\n",
            "Requirement already satisfied: chardet<3.1.0,>=3.0.2 in /usr/local/lib/python3.6/dist-packages (from requests>=2.19->qiskit-ibmq-provider==0.2.2->qiskit) (3.0.4)\n",
            "Requirement already satisfied: urllib3<1.25,>=1.21.1 in /usr/local/lib/python3.6/dist-packages (from requests>=2.19->qiskit-ibmq-provider==0.2.2->qiskit) (1.24.3)\n",
            "Requirement already satisfied: idna<2.9,>=2.5 in /usr/local/lib/python3.6/dist-packages (from requests>=2.19->qiskit-ibmq-provider==0.2.2->qiskit) (2.8)\n",
            "Requirement already satisfied: six in /usr/local/lib/python3.6/dist-packages (from docplex->qiskit-aqua==0.5.0->qiskit) (1.12.0)\n",
            "Requirement already satisfied: docloud>=1.0.315 in /usr/local/lib/python3.6/dist-packages (from docplex->qiskit-aqua==0.5.0->qiskit) (1.0.369)\n",
            "Requirement already satisfied: ndg-httpsclient in /usr/local/lib/python3.6/dist-packages (from quandl->qiskit-aqua==0.5.0->qiskit) (0.5.1)\n",
            "Requirement already satisfied: python-dateutil in /usr/local/lib/python3.6/dist-packages (from quandl->qiskit-aqua==0.5.0->qiskit) (2.5.3)\n",
            "Requirement already satisfied: pandas>=0.14 in /usr/local/lib/python3.6/dist-packages (from quandl->qiskit-aqua==0.5.0->qiskit) (0.24.2)\n",
            "Requirement already satisfied: more-itertools<=5.0.0 in /usr/local/lib/python3.6/dist-packages (from quandl->qiskit-aqua==0.5.0->qiskit) (5.0.0)\n",
            "Requirement already satisfied: inflection>=0.3.1 in /usr/local/lib/python3.6/dist-packages (from quandl->qiskit-aqua==0.5.0->qiskit) (0.3.1)\n",
            "Requirement already satisfied: pyOpenSSL in /usr/local/lib/python3.6/dist-packages (from quandl->qiskit-aqua==0.5.0->qiskit) (19.0.0)\n",
            "Requirement already satisfied: pyasn1 in /usr/local/lib/python3.6/dist-packages (from quandl->qiskit-aqua==0.5.0->qiskit) (0.4.5)\n",
            "Requirement already satisfied: cffi!=1.11.3,>=1.8 in /usr/local/lib/python3.6/dist-packages (from cryptography>=1.3->requests-ntlm>=1.1.0->qiskit-ibmq-provider==0.2.2->qiskit) (1.12.3)\n",
            "Requirement already satisfied: asn1crypto>=0.21.0 in /usr/local/lib/python3.6/dist-packages (from cryptography>=1.3->requests-ntlm>=1.1.0->qiskit-ibmq-provider==0.2.2->qiskit) (0.24.0)\n",
            "Requirement already satisfied: pytz>=2011k in /usr/local/lib/python3.6/dist-packages (from pandas>=0.14->quandl->qiskit-aqua==0.5.0->qiskit) (2018.9)\n",
            "Requirement already satisfied: pycparser in /usr/local/lib/python3.6/dist-packages (from cffi!=1.11.3,>=1.8->cryptography>=1.3->requests-ntlm>=1.1.0->qiskit-ibmq-provider==0.2.2->qiskit) (2.19)\n"
          ],
          "name": "stdout"
        },
        {
          "output_type": "stream",
          "text": [
            "/usr/local/lib/python3.6/dist-packages/qiskit/providers/ibmq/ibmqprovider.py:272: UserWarning: Credentials are already in use.\n",
            "  warnings.warn('Credentials are already in use.')\n"
          ],
          "name": "stderr"
        }
      ]
    },
    {
      "cell_type": "code",
      "metadata": {
        "id": "Shng9SvY67WL",
        "colab_type": "code",
        "outputId": "0d925d01-52cd-4dcd-b68e-0ddce8cae351",
        "colab": {
          "base_uri": "https://localhost:8080/",
          "height": 226
        }
      },
      "source": [
        "qr1 = QuantumRegister(2, 'enQ')\n",
        "cr1 = ClassicalRegister(2, 'enC')\n",
        "enDie = QuantumCircuit(qr1, cr1)\n",
        "enDie.h(qr1[0])\n",
        "enDie.cx(qr1[0],qr1[1])\n",
        "enDie.measure(qr1, cr1)\n",
        "enDie.draw(output='mpl')\n",
        "\n"
      ],
      "execution_count": 0,
      "outputs": [
        {
          "output_type": "execute_result",
          "data": {
            "image/png": "[encoded data removed]",
            "text/plain": [
              "<Figure size 541.8x258.86 with 1 Axes>"
            ]
          },
          "metadata": {
            "tags": []
          },
          "execution_count": 82
        }
      ]
    },
    {
      "cell_type": "code",
      "metadata": {
        "id": "skuf4TrU8WAm",
        "colab_type": "code",
        "outputId": "480740db-a50b-4cd9-b535-398ae0cdee55",
        "colab": {
          "base_uri": "https://localhost:8080/",
          "height": 226
        }
      },
      "source": [
        "qr2 = QuantumRegister(2, 'spQ')\n",
        "cr2 = ClassicalRegister(2, 'spC')\n",
        "spDie = QuantumCircuit(qr2, cr2)\n",
        "spDie.h(qr2)\n",
        "spDie.measure(qr2, cr2)\n",
        "spDie.draw(output='mpl')"
      ],
      "execution_count": 0,
      "outputs": [
        {
          "output_type": "execute_result",
          "data": {
            "image/png": "[encoded data removed]",
            "text/plain": [
              "<Figure size 481.6x258.86 with 1 Axes>"
            ]
          },
          "metadata": {
            "tags": []
          },
          "execution_count": 83
        }
      ]
    },
    {
      "cell_type": "code",
      "metadata": {
        "id": "siTRSDKnOhIr",
        "colab_type": "code",
        "outputId": "51c3c3d1-2e9e-4617-e778-c49ac40cd458",
        "colab": {
          "base_uri": "https://localhost:8080/",
          "height": 226
        }
      },
      "source": [
        "qr3 = QuantumRegister(2, 'phQ')\n",
        "cr3 = ClassicalRegister(2, 'phC')\n",
        "phDie = QuantumCircuit(qr3, cr3)\n",
        "phDie.x(qr3[1])\n",
        "phDie.h(qr3)\n",
        "phDie.t(qr3)\n",
        "phDie.h(qr3)\n",
        "phDie.measure(qr3, cr3)\n",
        "phDie.draw(output='mpl')"
      ],
      "execution_count": 0,
      "outputs": [
        {
          "output_type": "execute_result",
          "data": {
            "image/png": "[encoded data removed]",
            "text/plain": [
              "<Figure size 662.2x258.86 with 1 Axes>"
            ]
          },
          "metadata": {
            "tags": []
          },
          "execution_count": 118
        }
      ]
    },
    {
      "cell_type": "code",
      "metadata": {
        "id": "1_4w9Nms7FQV",
        "colab_type": "code",
        "colab": {}
      },
      "source": [
        "simulator_backend = IBMQ.get_backend('ibmq_qasm_simulator', hub=None)\n",
        "def roll(die, sim_backend):\n",
        "  job = execute(die, backend=sim_backend, shots=1, max_credits=3)\n",
        "  results = job.result().get_counts()\n",
        "  roll = list(results.keys())[0]\n",
        "  return int(roll, 2) + 1"
      ],
      "execution_count": 0,
      "outputs": []
    },
    {
      "cell_type": "code",
      "metadata": {
        "id": "HdqZBqSLHMMo",
        "colab_type": "code",
        "colab": {}
      },
      "source": [
        ""
      ],
      "execution_count": 0,
      "outputs": []
    },
    {
      "cell_type": "code",
      "metadata": {
        "id": "FZ9u4vFb9lV_",
        "colab_type": "code",
        "outputId": "8f33fa9b-8940-4098-8608-127db7875fa8",
        "colab": {
          "base_uri": "https://localhost:8080/",
          "height": 170
        }
      },
      "source": [
        "import random\n",
        "print(\"QUANTUM DICE!\\nWhat die will you use?\")\n",
        "userDie = int(input(\"1:Superposition Die | 2:Entangled Die | 3:Phase Die\\n\"))\n",
        "compRoll = random.randint(1,4)\n",
        "\n",
        "if userDie == 1:\n",
        "  print(\"Rolling superposition die...\")\n",
        "  userRoll = roll(spDie, simulator_backend)\n",
        "  print(\"User rolled: \", userRoll)\n",
        "  print(\"Neemz rolled: \", compRoll)\n",
        "  if userRoll > compRoll:\n",
        "    print(\"You Win!\")\n",
        "  elif userRoll < compRoll:\n",
        "    print(\"You Lost!\")\n",
        "  else:\n",
        "    print(\"TIE!\")\n",
        "elif userDie == 2:\n",
        "  print(\"Rolling entangled die...\")\n",
        "  userRoll = roll(enDie, simulator_backend)\n",
        "  print(\"User rolled: \", userRoll)\n",
        "  print(\"Neemz rolled: \", compRoll)\n",
        "  if userRoll > compRoll:\n",
        "    print(\"You Win!\")\n",
        "  elif userRoll < compRoll:\n",
        "    print(\"You Lost! \")\n",
        "  else:\n",
        "    print(\"TIE!\")\n",
        "elif userDie == 3:\n",
        "  print(\"Rolling phase die...\")\n",
        "  userRoll = roll(phDie, simulator_backend)\n",
        "  print(\"User rolled: \", userRoll)\n",
        "  print(\"Neemz rolled: \", compRoll)\n",
        "  if userRoll > compRoll:\n",
        "    print(\"You Win!\")\n",
        "  elif userRoll < compRoll:\n",
        "    print(\"You Lost! \")\n",
        "  else:\n",
        "    print(\"TIE!\")\n"
      ],
      "execution_count": 0,
      "outputs": [
        {
          "output_type": "stream",
          "text": [
            "QUANTUM DICE!\n",
            "What die will you use?\n",
            "1:Superposition Die | 2:Entangled Die | 3:Phase Die\n",
            "1\n",
            "4\n",
            "Rolling superposition die...\n",
            "User rolled:  2\n",
            "Neemz rolled:  4\n",
            "You Lost!\n"
          ],
          "name": "stdout"
        }
      ]
    },
    {
      "cell_type": "code",
      "metadata": {
        "id": "ldSctnv_P6__",
        "colab_type": "code",
        "colab": {}
      },
      "source": [
        ""
      ],
      "execution_count": 0,
      "outputs": []
    },
    {
      "cell_type": "code",
      "metadata": {
        "id": "oyzB9tWwLX3I",
        "colab_type": "code",
        "colab": {}
      },
      "source": [
        ""
      ],
      "execution_count": 0,
      "outputs": []
    }
  ]
}